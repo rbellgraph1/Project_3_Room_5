{
 "cells": [
  {
   "cell_type": "code",
   "execution_count": 1,
   "metadata": {},
   "outputs": [],
   "source": [
    "#importing Dependancies\n",
    "import pandas as pd;\n",
    "import sqlite3 as sqlite\n",
    "conn = sqlite.connect('{}'.format(\"data/tracker_info.sqlite\"))"
   ]
  },
  {
   "cell_type": "code",
   "execution_count": null,
   "metadata": {},
   "outputs": [],
   "source": [
    "#Pulling in the CSV file and changing to DataFrame\n",
    "csv_path = \"data/proj3data.csv\"\n",
    "tracker_data = pd.read_csv(csv_path)\n",
    "\n",
    "tracker_data.head()"
   ]
  },
  {
   "cell_type": "code",
   "execution_count": null,
   "metadata": {},
   "outputs": [],
   "source": [
    "#checking initial info \n",
    "tracker_data.info()"
   ]
  },
  {
   "cell_type": "code",
   "execution_count": null,
   "metadata": {},
   "outputs": [],
   "source": [
    "# Dropping all the rows with No Values\n",
    "tracker_data = tracker_data.dropna(how=\"any\")"
   ]
  },
  {
   "cell_type": "code",
   "execution_count": null,
   "metadata": {},
   "outputs": [],
   "source": [
    "#Verifying Dropna worked and now totals are all matching up correctly\n",
    "tracker_data.info()"
   ]
  },
  {
   "cell_type": "code",
   "execution_count": null,
   "metadata": {},
   "outputs": [],
   "source": [
    "#checking column headers\n",
    "tracker_data.head()"
   ]
  },
  {
   "cell_type": "code",
   "execution_count": null,
   "metadata": {},
   "outputs": [],
   "source": [
    "#Renamed Company, Device, Country, Type and Heart Rate to a cleaner name. \n",
    "renamed_tracker_data = tracker_data.rename(columns={\"Company name\" : \"Company\" , \"Device name\" : \"Device\" , \"County of origin\": \"Country\", \"PPG\": \"Heart Rate\", \"Form factor\": \"Type\"})\n",
    "renamed_tracker_data.head(1)\n"
   ]
  },
  {
   "cell_type": "code",
   "execution_count": null,
   "metadata": {},
   "outputs": [],
   "source": [
    "# Validating Unique names of companies\n",
    "renamed_tracker_data[\"Country\"].sort_values().unique()\n"
   ]
  },
  {
   "cell_type": "code",
   "execution_count": null,
   "metadata": {},
   "outputs": [],
   "source": [
    "#Change Release year, Company, Device, Country of Origin, and Type to stings \n",
    "renamed_tracker_data [\"Release year\"] = renamed_tracker_data[\"Release year\"].astype(int)\n",
    "renamed_tracker_data [\"Company\"] = renamed_tracker_data[\"Company\"].astype(\"string\")\n",
    "renamed_tracker_data [\"Device\"] = renamed_tracker_data[\"Device\"].astype(\"string\")\n",
    "renamed_tracker_data [\"Country\"] = renamed_tracker_data[\"Country\"].astype(\"string\")\n",
    "renamed_tracker_data [\"Type\"] = renamed_tracker_data[\"Type\"].astype(\"string\")\n",
    "renamed_tracker_data [\"Region\"] = renamed_tracker_data[\"Region\"].astype(\"string\")\n",
    "renamed_tracker_data.info()"
   ]
  },
  {
   "cell_type": "code",
   "execution_count": null,
   "metadata": {},
   "outputs": [],
   "source": [
    "#Export the DataFrame\n",
    "renamed_tracker_data.to_sql(\"tracker\",conn, if_exists=\"replace\")\n"
   ]
  },
  {
   "cell_type": "code",
   "execution_count": null,
   "metadata": {},
   "outputs": [],
   "source": [
    "df=pd.read_sql(\"select * from {}\".format(\"tracker\"),conn)\n",
    "conn.close()\n",
    "df.head()"
   ]
  },
  {
   "attachments": {},
   "cell_type": "markdown",
   "metadata": {},
   "source": []
  }
 ],
 "metadata": {
  "kernelspec": {
   "display_name": "RUTDateViz2023",
   "language": "python",
   "name": "python3"
  },
  "language_info": {
   "codemirror_mode": {
    "name": "ipython",
    "version": 3
   },
   "file_extension": ".py",
   "mimetype": "text/x-python",
   "name": "python",
   "nbconvert_exporter": "python",
   "pygments_lexer": "ipython3",
   "version": "3.10.9"
  },
  "orig_nbformat": 4
 },
 "nbformat": 4,
 "nbformat_minor": 2
}
